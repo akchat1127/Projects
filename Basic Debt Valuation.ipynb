{
 "cells": [
  {
   "cell_type": "code",
   "execution_count": 39,
   "id": "4a5e3a71",
   "metadata": {},
   "outputs": [],
   "source": [
    "#Define class\n",
    "\n",
    "#Self variable represents the instance of the object itself. \n",
    "#Notional is the face value or the loan amount owed\n",
    "#Redemption is the amount by the borrower which accounts for interest on the loan\n",
    "#Interest rate is the rate being charged by the bank\n",
    "\n",
    "#Define future value (what the bank receives minus the notional amount at the end of the loan) \n",
    "\n",
    "#Define present value  (what the banks receives minus the notional amount at time 0)\n",
    "\n",
    "#Define discount factor (PV = FV * DF)\n",
    "\n",
    "class Loan:\n",
    "    def __init__(self, notional, redemption, ir):\n",
    "        self.notional = notional\n",
    "        self.redemption = redemption\n",
    "        self.ir = ir\n",
    "    def FV(self):\n",
    "        return self.redemption - self.notional*(1+self.ir)\n",
    "    def PV(self):\n",
    "        return self.redemption/(1+self.ir) - self.notional\n",
    "    def DF(self):\n",
    "        return 1/(1+self.ir)"
   ]
  },
  {
   "cell_type": "code",
   "execution_count": 40,
   "id": "b863cb0f",
   "metadata": {},
   "outputs": [
    {
     "name": "stdout",
     "output_type": "stream",
     "text": [
      "100\n",
      "1.0\n",
      "0.9615384615384528\n",
      "0.9615384615384615\n"
     ]
    }
   ],
   "source": [
    "#Test output\n",
    "loan = Loan(100, 105, 0.04)\n",
    "print(loan.notional)\n",
    "print(loan.FV())\n",
    "print(loan.PV())\n",
    "print(loan.DF())\n"
   ]
  },
  {
   "cell_type": "code",
   "execution_count": 41,
   "id": "865e0a06",
   "metadata": {},
   "outputs": [
    {
     "data": {
      "text/plain": [
       "-4.545454545454547"
      ]
     },
     "execution_count": 41,
     "metadata": {},
     "output_type": "execute_result"
    }
   ],
   "source": [
    "#Test with riskier interest rate\n",
    "loan.ir = 0.1\n",
    "loan.PV()"
   ]
  },
  {
   "cell_type": "code",
   "execution_count": 42,
   "id": "73ae5af5",
   "metadata": {},
   "outputs": [
    {
     "name": "stdout",
     "output_type": "stream",
     "text": [
      "3.960396039603964\n",
      "0.9900990099009901\n"
     ]
    }
   ],
   "source": [
    "#Test with less risky interest rate\n",
    "loan.ir = 0.01\n",
    "print(loan.PV())\n",
    "print(loan.DF())\n",
    "\n",
    "#Lower interest rate = higher discount factor"
   ]
  }
 ],
 "metadata": {
  "kernelspec": {
   "display_name": "Python 3 (ipykernel)",
   "language": "python",
   "name": "python3"
  },
  "language_info": {
   "codemirror_mode": {
    "name": "ipython",
    "version": 3
   },
   "file_extension": ".py",
   "mimetype": "text/x-python",
   "name": "python",
   "nbconvert_exporter": "python",
   "pygments_lexer": "ipython3",
   "version": "3.9.5"
  }
 },
 "nbformat": 4,
 "nbformat_minor": 5
}
