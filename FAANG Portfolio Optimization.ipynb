{
 "cells": [
  {
   "cell_type": "code",
   "execution_count": 1,
   "id": "047fe6a2",
   "metadata": {},
   "outputs": [],
   "source": [
    "#Import Python libraries\n",
    "\n",
    "from pandas_datareader import data as web\n",
    "import pandas as pd\n",
    "import numpy as np\n",
    "from datetime import datetime\n",
    "import matplotlib.pyplot as plt\n",
    "plt.style.use('fivethirtyeight')"
   ]
  },
  {
   "cell_type": "code",
   "execution_count": 2,
   "id": "e321c814",
   "metadata": {},
   "outputs": [],
   "source": [
    "#Get Stock Symbols\n",
    "#FAANG\n",
    "assets = ['FB', 'AMZN', 'AAPL', 'NFLX', 'GOOG']"
   ]
  },
  {
   "cell_type": "code",
   "execution_count": 3,
   "id": "bee731d6",
   "metadata": {},
   "outputs": [],
   "source": [
    "#Assign weights to portfolio\n",
    "weights = np.array([0.2, 0.2, 0.2, 0.2, 0.2])"
   ]
  },
  {
   "cell_type": "code",
   "execution_count": 4,
   "id": "a1022380",
   "metadata": {},
   "outputs": [],
   "source": [
    "#Get the stock/portfolio starting date\n",
    "stockStartDate = '2013-01-01'"
   ]
  },
  {
   "cell_type": "code",
   "execution_count": 5,
   "id": "139c8a1a",
   "metadata": {},
   "outputs": [
    {
     "data": {
      "text/plain": [
       "'2021-09-05'"
      ]
     },
     "execution_count": 5,
     "metadata": {},
     "output_type": "execute_result"
    }
   ],
   "source": [
    "#Get the stock/portfolio ending date\n",
    "today = datetime.today().strftime('%Y-%m-%d')\n",
    "today"
   ]
  },
  {
   "cell_type": "code",
   "execution_count": 6,
   "id": "37eda94b",
   "metadata": {},
   "outputs": [],
   "source": [
    "#Create a dataframe to store adjusted close price of the stocks\n",
    "df = pd.DataFrame()"
   ]
  },
  {
   "cell_type": "code",
   "execution_count": 11,
   "id": "776b31b2",
   "metadata": {},
   "outputs": [
    {
     "data": {
      "text/html": [
       "<div>\n",
       "<style scoped>\n",
       "    .dataframe tbody tr th:only-of-type {\n",
       "        vertical-align: middle;\n",
       "    }\n",
       "\n",
       "    .dataframe tbody tr th {\n",
       "        vertical-align: top;\n",
       "    }\n",
       "\n",
       "    .dataframe thead th {\n",
       "        text-align: right;\n",
       "    }\n",
       "</style>\n",
       "<table border=\"1\" class=\"dataframe\">\n",
       "  <thead>\n",
       "    <tr style=\"text-align: right;\">\n",
       "      <th></th>\n",
       "      <th>FB</th>\n",
       "      <th>AMZN</th>\n",
       "      <th>AAPL</th>\n",
       "      <th>NFLX</th>\n",
       "      <th>GOOG</th>\n",
       "    </tr>\n",
       "    <tr>\n",
       "      <th>Date</th>\n",
       "      <th></th>\n",
       "      <th></th>\n",
       "      <th></th>\n",
       "      <th></th>\n",
       "      <th></th>\n",
       "    </tr>\n",
       "  </thead>\n",
       "  <tbody>\n",
       "    <tr>\n",
       "      <th>2013-01-02</th>\n",
       "      <td>28.000000</td>\n",
       "      <td>257.309998</td>\n",
       "      <td>16.985447</td>\n",
       "      <td>13.144286</td>\n",
       "      <td>360.274597</td>\n",
       "    </tr>\n",
       "    <tr>\n",
       "      <th>2013-01-03</th>\n",
       "      <td>27.770000</td>\n",
       "      <td>258.480011</td>\n",
       "      <td>16.771053</td>\n",
       "      <td>13.798571</td>\n",
       "      <td>360.483826</td>\n",
       "    </tr>\n",
       "    <tr>\n",
       "      <th>2013-01-04</th>\n",
       "      <td>28.760000</td>\n",
       "      <td>259.149994</td>\n",
       "      <td>16.303900</td>\n",
       "      <td>13.711429</td>\n",
       "      <td>367.607117</td>\n",
       "    </tr>\n",
       "    <tr>\n",
       "      <th>2013-01-07</th>\n",
       "      <td>29.420000</td>\n",
       "      <td>268.459991</td>\n",
       "      <td>16.207998</td>\n",
       "      <td>14.171429</td>\n",
       "      <td>366.003143</td>\n",
       "    </tr>\n",
       "    <tr>\n",
       "      <th>2013-01-08</th>\n",
       "      <td>29.059999</td>\n",
       "      <td>266.380005</td>\n",
       "      <td>16.251616</td>\n",
       "      <td>13.880000</td>\n",
       "      <td>365.280823</td>\n",
       "    </tr>\n",
       "    <tr>\n",
       "      <th>...</th>\n",
       "      <td>...</td>\n",
       "      <td>...</td>\n",
       "      <td>...</td>\n",
       "      <td>...</td>\n",
       "      <td>...</td>\n",
       "    </tr>\n",
       "    <tr>\n",
       "      <th>2021-08-30</th>\n",
       "      <td>380.660004</td>\n",
       "      <td>3421.570068</td>\n",
       "      <td>153.119995</td>\n",
       "      <td>566.179993</td>\n",
       "      <td>2909.389893</td>\n",
       "    </tr>\n",
       "    <tr>\n",
       "      <th>2021-08-31</th>\n",
       "      <td>379.380005</td>\n",
       "      <td>3470.790039</td>\n",
       "      <td>151.830002</td>\n",
       "      <td>569.190002</td>\n",
       "      <td>2909.239990</td>\n",
       "    </tr>\n",
       "    <tr>\n",
       "      <th>2021-09-01</th>\n",
       "      <td>382.049988</td>\n",
       "      <td>3479.000000</td>\n",
       "      <td>152.509995</td>\n",
       "      <td>582.070007</td>\n",
       "      <td>2916.840088</td>\n",
       "    </tr>\n",
       "    <tr>\n",
       "      <th>2021-09-02</th>\n",
       "      <td>375.279999</td>\n",
       "      <td>3463.120117</td>\n",
       "      <td>153.649994</td>\n",
       "      <td>588.549988</td>\n",
       "      <td>2884.379883</td>\n",
       "    </tr>\n",
       "    <tr>\n",
       "      <th>2021-09-03</th>\n",
       "      <td>376.260010</td>\n",
       "      <td>3478.050049</td>\n",
       "      <td>154.300003</td>\n",
       "      <td>590.530029</td>\n",
       "      <td>2895.500000</td>\n",
       "    </tr>\n",
       "  </tbody>\n",
       "</table>\n",
       "<p>2185 rows × 5 columns</p>\n",
       "</div>"
      ],
      "text/plain": [
       "                    FB         AMZN        AAPL        NFLX         GOOG\n",
       "Date                                                                    \n",
       "2013-01-02   28.000000   257.309998   16.985447   13.144286   360.274597\n",
       "2013-01-03   27.770000   258.480011   16.771053   13.798571   360.483826\n",
       "2013-01-04   28.760000   259.149994   16.303900   13.711429   367.607117\n",
       "2013-01-07   29.420000   268.459991   16.207998   14.171429   366.003143\n",
       "2013-01-08   29.059999   266.380005   16.251616   13.880000   365.280823\n",
       "...                ...          ...         ...         ...          ...\n",
       "2021-08-30  380.660004  3421.570068  153.119995  566.179993  2909.389893\n",
       "2021-08-31  379.380005  3470.790039  151.830002  569.190002  2909.239990\n",
       "2021-09-01  382.049988  3479.000000  152.509995  582.070007  2916.840088\n",
       "2021-09-02  375.279999  3463.120117  153.649994  588.549988  2884.379883\n",
       "2021-09-03  376.260010  3478.050049  154.300003  590.530029  2895.500000\n",
       "\n",
       "[2185 rows x 5 columns]"
      ]
     },
     "execution_count": 11,
     "metadata": {},
     "output_type": "execute_result"
    }
   ],
   "source": [
    "#Store the adjusted close price of the stock into the df\n",
    "for stock in assets:\n",
    "    df[stock] = web.DataReader(stock,data_source = 'yahoo', start = stockStartDate, end = today)['Adj Close']\n",
    "    \n",
    "#Show the df\n",
    "df"
   ]
  },
  {
   "cell_type": "code",
   "execution_count": 8,
   "id": "557a13ee",
   "metadata": {},
   "outputs": [
    {
     "data": {
      "text/html": [
       "<div>\n",
       "<style scoped>\n",
       "    .dataframe tbody tr th:only-of-type {\n",
       "        vertical-align: middle;\n",
       "    }\n",
       "\n",
       "    .dataframe tbody tr th {\n",
       "        vertical-align: top;\n",
       "    }\n",
       "\n",
       "    .dataframe thead th {\n",
       "        text-align: right;\n",
       "    }\n",
       "</style>\n",
       "<table border=\"1\" class=\"dataframe\">\n",
       "  <thead>\n",
       "    <tr style=\"text-align: right;\">\n",
       "      <th></th>\n",
       "      <th>FB</th>\n",
       "      <th>AMZN</th>\n",
       "      <th>AAPL</th>\n",
       "      <th>NFLX</th>\n",
       "      <th>GOOG</th>\n",
       "    </tr>\n",
       "    <tr>\n",
       "      <th>Date</th>\n",
       "      <th></th>\n",
       "      <th></th>\n",
       "      <th></th>\n",
       "      <th></th>\n",
       "      <th></th>\n",
       "    </tr>\n",
       "  </thead>\n",
       "  <tbody>\n",
       "    <tr>\n",
       "      <th>2013-01-02</th>\n",
       "      <td>28.000000</td>\n",
       "      <td>257.309998</td>\n",
       "      <td>16.985447</td>\n",
       "      <td>13.144286</td>\n",
       "      <td>360.274597</td>\n",
       "    </tr>\n",
       "    <tr>\n",
       "      <th>2013-01-03</th>\n",
       "      <td>27.770000</td>\n",
       "      <td>258.480011</td>\n",
       "      <td>16.771053</td>\n",
       "      <td>13.798571</td>\n",
       "      <td>360.483826</td>\n",
       "    </tr>\n",
       "    <tr>\n",
       "      <th>2013-01-04</th>\n",
       "      <td>28.760000</td>\n",
       "      <td>259.149994</td>\n",
       "      <td>16.303900</td>\n",
       "      <td>13.711429</td>\n",
       "      <td>367.607117</td>\n",
       "    </tr>\n",
       "    <tr>\n",
       "      <th>2013-01-07</th>\n",
       "      <td>29.420000</td>\n",
       "      <td>268.459991</td>\n",
       "      <td>16.207998</td>\n",
       "      <td>14.171429</td>\n",
       "      <td>366.003143</td>\n",
       "    </tr>\n",
       "    <tr>\n",
       "      <th>2013-01-08</th>\n",
       "      <td>29.059999</td>\n",
       "      <td>266.380005</td>\n",
       "      <td>16.251616</td>\n",
       "      <td>13.880000</td>\n",
       "      <td>365.280823</td>\n",
       "    </tr>\n",
       "    <tr>\n",
       "      <th>...</th>\n",
       "      <td>...</td>\n",
       "      <td>...</td>\n",
       "      <td>...</td>\n",
       "      <td>...</td>\n",
       "      <td>...</td>\n",
       "    </tr>\n",
       "    <tr>\n",
       "      <th>2021-08-30</th>\n",
       "      <td>380.660004</td>\n",
       "      <td>3421.570068</td>\n",
       "      <td>153.119995</td>\n",
       "      <td>566.179993</td>\n",
       "      <td>2909.389893</td>\n",
       "    </tr>\n",
       "    <tr>\n",
       "      <th>2021-08-31</th>\n",
       "      <td>379.380005</td>\n",
       "      <td>3470.790039</td>\n",
       "      <td>151.830002</td>\n",
       "      <td>569.190002</td>\n",
       "      <td>2909.239990</td>\n",
       "    </tr>\n",
       "    <tr>\n",
       "      <th>2021-09-01</th>\n",
       "      <td>382.049988</td>\n",
       "      <td>3479.000000</td>\n",
       "      <td>152.509995</td>\n",
       "      <td>582.070007</td>\n",
       "      <td>2916.840088</td>\n",
       "    </tr>\n",
       "    <tr>\n",
       "      <th>2021-09-02</th>\n",
       "      <td>375.279999</td>\n",
       "      <td>3463.120117</td>\n",
       "      <td>153.649994</td>\n",
       "      <td>588.549988</td>\n",
       "      <td>2884.379883</td>\n",
       "    </tr>\n",
       "    <tr>\n",
       "      <th>2021-09-03</th>\n",
       "      <td>376.260010</td>\n",
       "      <td>3478.050049</td>\n",
       "      <td>154.300003</td>\n",
       "      <td>590.530029</td>\n",
       "      <td>2895.500000</td>\n",
       "    </tr>\n",
       "  </tbody>\n",
       "</table>\n",
       "<p>2185 rows × 5 columns</p>\n",
       "</div>"
      ],
      "text/plain": [
       "                    FB         AMZN        AAPL        NFLX         GOOG\n",
       "Date                                                                    \n",
       "2013-01-02   28.000000   257.309998   16.985447   13.144286   360.274597\n",
       "2013-01-03   27.770000   258.480011   16.771053   13.798571   360.483826\n",
       "2013-01-04   28.760000   259.149994   16.303900   13.711429   367.607117\n",
       "2013-01-07   29.420000   268.459991   16.207998   14.171429   366.003143\n",
       "2013-01-08   29.059999   266.380005   16.251616   13.880000   365.280823\n",
       "...                ...          ...         ...         ...          ...\n",
       "2021-08-30  380.660004  3421.570068  153.119995  566.179993  2909.389893\n",
       "2021-08-31  379.380005  3470.790039  151.830002  569.190002  2909.239990\n",
       "2021-09-01  382.049988  3479.000000  152.509995  582.070007  2916.840088\n",
       "2021-09-02  375.279999  3463.120117  153.649994  588.549988  2884.379883\n",
       "2021-09-03  376.260010  3478.050049  154.300003  590.530029  2895.500000\n",
       "\n",
       "[2185 rows x 5 columns]"
      ]
     },
     "execution_count": 8,
     "metadata": {},
     "output_type": "execute_result"
    }
   ],
   "source": []
  },
  {
   "cell_type": "code",
   "execution_count": 10,
   "id": "ec2dc30b",
   "metadata": {},
   "outputs": [
    {
     "data": {
      "image/png": "[encoded data removed]",
      "text/plain": [
       "<Figure size 432x288 with 1 Axes>"
      ]
     },
     "metadata": {},
     "output_type": "display_data"
    }
   ],
   "source": [
    "#Visually show the stock/portfolio\n",
    "title = 'Portfolio Adj. Close Price History'\n",
    "\n",
    "#Get the stocks\n",
    "my_stocks = df\n",
    "\n",
    "#Create and plot the graph\n",
    "for c in my_stocks.columns.values:\n",
    "    plt.plot(my_stocks[c], label = c)\n",
    "\n",
    "plt.title(title)\n",
    "plt.xlabel('Date', fontsize = 18)\n",
    "plt.ylabel('Adj. Price in USD($)', fontsize = 18)\n",
    "plt.legend(my_stocks.columns.values, loc = 'upper left')\n",
    "plt.show()"
   ]
  },
  {
   "cell_type": "code",
   "execution_count": 12,
   "id": "2318b895",
   "metadata": {},
   "outputs": [
    {
     "data": {
      "text/html": [
       "<div>\n",
       "<style scoped>\n",
       "    .dataframe tbody tr th:only-of-type {\n",
       "        vertical-align: middle;\n",
       "    }\n",
       "\n",
       "    .dataframe tbody tr th {\n",
       "        vertical-align: top;\n",
       "    }\n",
       "\n",
       "    .dataframe thead th {\n",
       "        text-align: right;\n",
       "    }\n",
       "</style>\n",
       "<table border=\"1\" class=\"dataframe\">\n",
       "  <thead>\n",
       "    <tr style=\"text-align: right;\">\n",
       "      <th></th>\n",
       "      <th>FB</th>\n",
       "      <th>AMZN</th>\n",
       "      <th>AAPL</th>\n",
       "      <th>NFLX</th>\n",
       "      <th>GOOG</th>\n",
       "    </tr>\n",
       "    <tr>\n",
       "      <th>Date</th>\n",
       "      <th></th>\n",
       "      <th></th>\n",
       "      <th></th>\n",
       "      <th></th>\n",
       "      <th></th>\n",
       "    </tr>\n",
       "  </thead>\n",
       "  <tbody>\n",
       "    <tr>\n",
       "      <th>2013-01-02</th>\n",
       "      <td>NaN</td>\n",
       "      <td>NaN</td>\n",
       "      <td>NaN</td>\n",
       "      <td>NaN</td>\n",
       "      <td>NaN</td>\n",
       "    </tr>\n",
       "    <tr>\n",
       "      <th>2013-01-03</th>\n",
       "      <td>-0.008214</td>\n",
       "      <td>0.004547</td>\n",
       "      <td>-0.012622</td>\n",
       "      <td>0.049777</td>\n",
       "      <td>0.000581</td>\n",
       "    </tr>\n",
       "    <tr>\n",
       "      <th>2013-01-04</th>\n",
       "      <td>0.035650</td>\n",
       "      <td>0.002592</td>\n",
       "      <td>-0.027855</td>\n",
       "      <td>-0.006315</td>\n",
       "      <td>0.019760</td>\n",
       "    </tr>\n",
       "    <tr>\n",
       "      <th>2013-01-07</th>\n",
       "      <td>0.022949</td>\n",
       "      <td>0.035925</td>\n",
       "      <td>-0.005882</td>\n",
       "      <td>0.033549</td>\n",
       "      <td>-0.004363</td>\n",
       "    </tr>\n",
       "    <tr>\n",
       "      <th>2013-01-08</th>\n",
       "      <td>-0.012237</td>\n",
       "      <td>-0.007748</td>\n",
       "      <td>0.002691</td>\n",
       "      <td>-0.020565</td>\n",
       "      <td>-0.001974</td>\n",
       "    </tr>\n",
       "    <tr>\n",
       "      <th>...</th>\n",
       "      <td>...</td>\n",
       "      <td>...</td>\n",
       "      <td>...</td>\n",
       "      <td>...</td>\n",
       "      <td>...</td>\n",
       "    </tr>\n",
       "    <tr>\n",
       "      <th>2021-08-30</th>\n",
       "      <td>0.021550</td>\n",
       "      <td>0.021477</td>\n",
       "      <td>0.030417</td>\n",
       "      <td>0.012989</td>\n",
       "      <td>0.006358</td>\n",
       "    </tr>\n",
       "    <tr>\n",
       "      <th>2021-08-31</th>\n",
       "      <td>-0.003363</td>\n",
       "      <td>0.014385</td>\n",
       "      <td>-0.008425</td>\n",
       "      <td>0.005316</td>\n",
       "      <td>-0.000052</td>\n",
       "    </tr>\n",
       "    <tr>\n",
       "      <th>2021-09-01</th>\n",
       "      <td>0.007038</td>\n",
       "      <td>0.002365</td>\n",
       "      <td>0.004479</td>\n",
       "      <td>0.022629</td>\n",
       "      <td>0.002612</td>\n",
       "    </tr>\n",
       "    <tr>\n",
       "      <th>2021-09-02</th>\n",
       "      <td>-0.017720</td>\n",
       "      <td>-0.004564</td>\n",
       "      <td>0.007475</td>\n",
       "      <td>0.011133</td>\n",
       "      <td>-0.011129</td>\n",
       "    </tr>\n",
       "    <tr>\n",
       "      <th>2021-09-03</th>\n",
       "      <td>0.002611</td>\n",
       "      <td>0.004311</td>\n",
       "      <td>0.004230</td>\n",
       "      <td>0.003364</td>\n",
       "      <td>0.003855</td>\n",
       "    </tr>\n",
       "  </tbody>\n",
       "</table>\n",
       "<p>2185 rows × 5 columns</p>\n",
       "</div>"
      ],
      "text/plain": [
       "                  FB      AMZN      AAPL      NFLX      GOOG\n",
       "Date                                                        \n",
       "2013-01-02       NaN       NaN       NaN       NaN       NaN\n",
       "2013-01-03 -0.008214  0.004547 -0.012622  0.049777  0.000581\n",
       "2013-01-04  0.035650  0.002592 -0.027855 -0.006315  0.019760\n",
       "2013-01-07  0.022949  0.035925 -0.005882  0.033549 -0.004363\n",
       "2013-01-08 -0.012237 -0.007748  0.002691 -0.020565 -0.001974\n",
       "...              ...       ...       ...       ...       ...\n",
       "2021-08-30  0.021550  0.021477  0.030417  0.012989  0.006358\n",
       "2021-08-31 -0.003363  0.014385 -0.008425  0.005316 -0.000052\n",
       "2021-09-01  0.007038  0.002365  0.004479  0.022629  0.002612\n",
       "2021-09-02 -0.017720 -0.004564  0.007475  0.011133 -0.011129\n",
       "2021-09-03  0.002611  0.004311  0.004230  0.003364  0.003855\n",
       "\n",
       "[2185 rows x 5 columns]"
      ]
     },
     "execution_count": 12,
     "metadata": {},
     "output_type": "execute_result"
    }
   ],
   "source": [
    "#Show the daily simple return\n",
    "returns = df. pct_change()\n",
    "returns"
   ]
  },
  {
   "cell_type": "code",
   "execution_count": 13,
   "id": "09421429",
   "metadata": {},
   "outputs": [
    {
     "data": {
      "text/html": [
       "<div>\n",
       "<style scoped>\n",
       "    .dataframe tbody tr th:only-of-type {\n",
       "        vertical-align: middle;\n",
       "    }\n",
       "\n",
       "    .dataframe tbody tr th {\n",
       "        vertical-align: top;\n",
       "    }\n",
       "\n",
       "    .dataframe thead th {\n",
       "        text-align: right;\n",
       "    }\n",
       "</style>\n",
       "<table border=\"1\" class=\"dataframe\">\n",
       "  <thead>\n",
       "    <tr style=\"text-align: right;\">\n",
       "      <th></th>\n",
       "      <th>FB</th>\n",
       "      <th>AMZN</th>\n",
       "      <th>AAPL</th>\n",
       "      <th>NFLX</th>\n",
       "      <th>GOOG</th>\n",
       "    </tr>\n",
       "  </thead>\n",
       "  <tbody>\n",
       "    <tr>\n",
       "      <th>FB</th>\n",
       "      <td>0.115974</td>\n",
       "      <td>0.053799</td>\n",
       "      <td>0.044521</td>\n",
       "      <td>0.055631</td>\n",
       "      <td>0.049818</td>\n",
       "    </tr>\n",
       "    <tr>\n",
       "      <th>AMZN</th>\n",
       "      <td>0.053799</td>\n",
       "      <td>0.091394</td>\n",
       "      <td>0.039620</td>\n",
       "      <td>0.061679</td>\n",
       "      <td>0.046572</td>\n",
       "    </tr>\n",
       "    <tr>\n",
       "      <th>AAPL</th>\n",
       "      <td>0.044521</td>\n",
       "      <td>0.039620</td>\n",
       "      <td>0.080506</td>\n",
       "      <td>0.035338</td>\n",
       "      <td>0.038150</td>\n",
       "    </tr>\n",
       "    <tr>\n",
       "      <th>NFLX</th>\n",
       "      <td>0.055631</td>\n",
       "      <td>0.061679</td>\n",
       "      <td>0.035338</td>\n",
       "      <td>0.203415</td>\n",
       "      <td>0.047884</td>\n",
       "    </tr>\n",
       "    <tr>\n",
       "      <th>GOOG</th>\n",
       "      <td>0.049818</td>\n",
       "      <td>0.046572</td>\n",
       "      <td>0.038150</td>\n",
       "      <td>0.047884</td>\n",
       "      <td>0.065310</td>\n",
       "    </tr>\n",
       "  </tbody>\n",
       "</table>\n",
       "</div>"
      ],
      "text/plain": [
       "            FB      AMZN      AAPL      NFLX      GOOG\n",
       "FB    0.115974  0.053799  0.044521  0.055631  0.049818\n",
       "AMZN  0.053799  0.091394  0.039620  0.061679  0.046572\n",
       "AAPL  0.044521  0.039620  0.080506  0.035338  0.038150\n",
       "NFLX  0.055631  0.061679  0.035338  0.203415  0.047884\n",
       "GOOG  0.049818  0.046572  0.038150  0.047884  0.065310"
      ]
     },
     "execution_count": 13,
     "metadata": {},
     "output_type": "execute_result"
    }
   ],
   "source": [
    "#Create and show the annualized covariance matrix\n",
    "#252 is number of trading days\n",
    "cov_matrix_annual = returns.cov() * 252\n",
    "cov_matrix_annual\n"
   ]
  },
  {
   "cell_type": "code",
   "execution_count": 14,
   "id": "10a25387",
   "metadata": {},
   "outputs": [
    {
     "data": {
      "text/plain": [
       "0.060104845533330765"
      ]
     },
     "execution_count": 14,
     "metadata": {},
     "output_type": "execute_result"
    }
   ],
   "source": [
    "#Calculate the portfolio variance\n",
    "#Weights transposed x covariance matrix x weights\n",
    "port_variance = np.dot(weights.T, np.dot(cov_matrix_annual, weights))\n",
    "port_variance"
   ]
  },
  {
   "cell_type": "code",
   "execution_count": 15,
   "id": "2230e26d",
   "metadata": {},
   "outputs": [
    {
     "data": {
      "text/plain": [
       "0.2451628959147994"
      ]
     },
     "execution_count": 15,
     "metadata": {},
     "output_type": "execute_result"
    }
   ],
   "source": [
    "#Calculate portfolio volatility (standard dev)\n",
    "port_volatility = np.sqrt(port_variance)\n",
    "port_volatility"
   ]
  },
  {
   "cell_type": "code",
   "execution_count": 16,
   "id": "cb024308",
   "metadata": {},
   "outputs": [
    {
     "data": {
      "text/plain": [
       "0.36181052926019897"
      ]
     },
     "execution_count": 16,
     "metadata": {},
     "output_type": "execute_result"
    }
   ],
   "source": [
    "#Calculate annual portfolio return\n",
    "portfolioSimpleAnnualReturn = np.sum(returns.mean() * weights) * 252\n",
    "portfolioSimpleAnnualReturn\n"
   ]
  },
  {
   "cell_type": "code",
   "execution_count": 17,
   "id": "4032dbd3",
   "metadata": {},
   "outputs": [
    {
     "name": "stdout",
     "output_type": "stream",
     "text": [
      "Expected Annual Return: 36.0%\n",
      "Annual Volatility: 25.0%\n",
      "Annual Variance: 6.0%\n"
     ]
    }
   ],
   "source": [
    "#Show the expected annual return, volatility, and variance\n",
    "percent_var = str(round(port_variance,2) * 100) + '%'\n",
    "percent_vols = str(round(port_volatility,2) * 100) + '%'\n",
    "percent_ret = str(round(portfolioSimpleAnnualReturn, 2) * 100) + '%'\n",
    "\n",
    "print('Expected Annual Return: ' + percent_ret)\n",
    "print('Annual Volatility: ' + percent_vols)\n",
    "print('Annual Variance: ' + percent_var)"
   ]
  },
  {
   "cell_type": "code",
   "execution_count": 25,
   "id": "5c925b42",
   "metadata": {},
   "outputs": [
    {
     "name": "stdout",
     "output_type": "stream",
     "text": [
      "OrderedDict([('FB', 0.14193), ('AMZN', 0.22765), ('AAPL', 0.26183), ('NFLX', 0.31352), ('GOOG', 0.05508)])\n",
      "------------------------------------------------------------------------------------------------------------------------\n",
      "Expected annual return: 39.3%\n",
      "Annual volatility: 26.2%\n",
      "Sharpe Ratio: 1.43\n"
     ]
    },
    {
     "data": {
      "text/plain": [
       "(0.39310310496884115, 0.2618202001436307, 1.4250355960470669)"
      ]
     },
     "execution_count": 25,
     "metadata": {},
     "output_type": "execute_result"
    }
   ],
   "source": [
    "#Import portfolio optimization tools\n",
    "from pypfopt.efficient_frontier import EfficientFrontier\n",
    "from pypfopt import risk_models\n",
    "from pypfopt import expected_returns\n",
    "\n",
    "#Calculate expected returns and the annualized sample covariance matrix of asset returns\n",
    "\n",
    "mu = expected_returns.mean_historical_return(df)\n",
    "S = risk_models.sample_cov(df)\n",
    "\n",
    "#Optimize for max sharpe ratio\n",
    "ef = EfficientFrontier(mu,S)\n",
    "weights = ef.max_sharpe()\n",
    "cleaned_weights = ef.clean_weights()\n",
    "print(cleaned_weights)\n",
    "print(\"-\"*120)\n",
    "ef.portfolio_performance(verbose = True)\n"
   ]
  },
  {
   "cell_type": "code",
   "execution_count": 31,
   "id": "6a50abe8",
   "metadata": {},
   "outputs": [
    {
     "name": "stdout",
     "output_type": "stream",
     "text": [
      "1.00001\n",
      "----------------------------------------------------------------------------------------------------\n",
      "Discrete Allocation: {'FB': 7, 'AMZN': 1, 'AAPL': 26, 'NFLX': 8}\n",
      "Funds Remaining: $152.09\n"
     ]
    }
   ],
   "source": [
    "#Check Sum\n",
    "sumFAANG = 0.14193 + 0.22765 + 0.26183 + 0.31352 + 0.05508\n",
    "print(sumFAANG)\n",
    "print(\"-\"*100)\n",
    "\n",
    "#Get the discrete allocation of each share per stock\n",
    "from pypfopt.discrete_allocation import DiscreteAllocation, get_latest_prices\n",
    "latest_prices = get_latest_prices(df)\n",
    "weights_ = cleaned_weights\n",
    "da = DiscreteAllocation(weights, latest_prices, total_portfolio_value= 15000)\n",
    "allocation, leftover = da.lp_portfolio()\n",
    "print('Discrete Allocation:', allocation)\n",
    "print('Funds Remaining: ${:.2f}'.format(leftover))"
   ]
  },
  {
   "cell_type": "code",
   "execution_count": null,
   "id": "c066d8af",
   "metadata": {},
   "outputs": [],
   "source": []
  }
 ],
 "metadata": {
  "kernelspec": {
   "display_name": "Python 3 (ipykernel)",
   "language": "python",
   "name": "python3"
  },
  "language_info": {
   "codemirror_mode": {
    "name": "ipython",
    "version": 3
   },
   "file_extension": ".py",
   "mimetype": "text/x-python",
   "name": "python",
   "nbconvert_exporter": "python",
   "pygments_lexer": "ipython3",
   "version": "3.9.5"
  }
 },
 "nbformat": 4,
 "nbformat_minor": 5
}
