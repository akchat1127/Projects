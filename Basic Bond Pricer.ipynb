{
 "cells": [
  {
   "cell_type": "code",
   "execution_count": 53,
   "id": "c3627a01",
   "metadata": {},
   "outputs": [
    {
     "name": "stdout",
     "output_type": "stream",
     "text": [
      "973.357234901108\n"
     ]
    }
   ],
   "source": [
    "#PV of a bond\n",
    "m = 2\n",
    "T = 3\n",
    "r = 0.07\n",
    "Face = 1000\n",
    "cpr = 0.06\n",
    "\n",
    "\n",
    "#Separate calculation out into PV of coupon payments at each time period plus PV of face value at the end of the time period\n",
    "#PV of face value = Face * (1+ (interest rate/annual number of payments) ^ (annual number of payments * years)\n",
    "#PV of coupon payments is written as a geometric series where the first payment is the coupon payment divided by the interest rate for the time period\n",
    "#First coupon payment * (1-r^n)/(1-r) where r is (1+r/m)^-1\n",
    "\n",
    "bond_price = (Face * (cpr/m)/(1+r/m)) * (1 - (1+r/m)**(-m*T))/(1-(1+r/m)**-1) + Face*(1+(r/m))**(-m*T) \n",
    "\n",
    "print(bond_price)\n"
   ]
  },
  {
   "cell_type": "code",
   "execution_count": null,
   "id": "a0eb0478",
   "metadata": {},
   "outputs": [],
   "source": []
  }
 ],
 "metadata": {
  "kernelspec": {
   "display_name": "Python 3 (ipykernel)",
   "language": "python",
   "name": "python3"
  },
  "language_info": {
   "codemirror_mode": {
    "name": "ipython",
    "version": 3
   },
   "file_extension": ".py",
   "mimetype": "text/x-python",
   "name": "python",
   "nbconvert_exporter": "python",
   "pygments_lexer": "ipython3",
   "version": "3.9.5"
  }
 },
 "nbformat": 4,
 "nbformat_minor": 5
}
