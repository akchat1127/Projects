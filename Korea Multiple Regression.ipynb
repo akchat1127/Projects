{
 "cells": [
  {
   "cell_type": "code",
   "execution_count": 1,
   "id": "90f5102e",
   "metadata": {},
   "outputs": [],
   "source": [
    "#Assumptions of the model\n",
    "#1. Regression residuals are normally distributed\n",
    "#2. Linear relationship is assumed between dependent and independent variables\n",
    "#3. Residuals are homoskedastic and approximately rectangular shaped\n",
    "#4. Absence of multicollinearity is expected, meaning independent variables are not\n",
    "#5. No autocorrelation of the residuals (relationship between variable's current value and past value)\n",
    "\n",
    "#Multiple Regression analysis on Korea's GDP growth. After Korean War, Korea was in poverty and experienced rapid GDP growth to become one of the top 15 economies\n"
   ]
  },
  {
   "cell_type": "code",
   "execution_count": 3,
   "id": "173dfc1c",
   "metadata": {},
   "outputs": [],
   "source": [
    "#Import libraries\n",
    "import matplotlib.pyplot as plt\n",
    "import seaborn as sns\n",
    "import pandas as pd\n",
    "import numpy as np\n",
    "import pylab\n",
    "import math\n",
    "\n",
    "from scipy import stats\n",
    "\n",
    "import statsmodels.api as sm\n",
    "from statsmodels.stats import diagnostic as diag\n",
    "from statsmodels.stats.outliers_influence import variance_inflation_factor\n",
    "\n",
    "from sklearn.model_selection import train_test_split\n",
    "from sklearn.linear_model import LinearRegression\n",
    "from sklearn.metrics import mean_squared_error, r2_score, mean_absolute_error"
   ]
  },
  {
   "cell_type": "code",
   "execution_count": null,
   "id": "0057ff93",
   "metadata": {},
   "outputs": [],
   "source": []
  }
 ],
 "metadata": {
  "kernelspec": {
   "display_name": "Python 3 (ipykernel)",
   "language": "python",
   "name": "python3"
  },
  "language_info": {
   "codemirror_mode": {
    "name": "ipython",
    "version": 3
   },
   "file_extension": ".py",
   "mimetype": "text/x-python",
   "name": "python",
   "nbconvert_exporter": "python",
   "pygments_lexer": "ipython3",
   "version": "3.9.5"
  }
 },
 "nbformat": 4,
 "nbformat_minor": 5
}
